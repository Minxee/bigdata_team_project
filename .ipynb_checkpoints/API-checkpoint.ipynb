{
 "cells": [
  {
   "cell_type": "markdown",
   "metadata": {},
   "source": [
    "1. 康老師頻道 API <br>\n",
    "https://www.googleapis.com/youtube/v3/videos?part=statistics%2Csnippet&id=HwOaklJxahk&maxResults=50&key={API_KEY}&fbclid=IwAR3rx7XmGLTM6fDxceGsmWCv7VvblRAnGE_U3beZCUJcpp9Rn-vwzJ2-5jw\n",
    "\n",
    "<br>\n",
    "\n",
    "2. 影片長度 API <br>\n",
    "https://www.googleapis.com/youtube/v3/videos?id=ikT1O4plOf4&part=contentDetails&key={API_KEY}&fbclid=IwAR2FHI8Jivjp0w2EsfC68RDa5IGEhtdejkt9r0yFJ7r6DnDI7ZgMbWRZPL0"
   ]
  }
 ],
 "metadata": {
  "kernelspec": {
   "display_name": "R",
   "language": "R",
   "name": "ir"
  },
  "language_info": {
   "codemirror_mode": "r",
   "file_extension": ".r",
   "mimetype": "text/x-r-source",
   "name": "R",
   "pygments_lexer": "r",
   "version": "3.6.1"
  }
 },
 "nbformat": 4,
 "nbformat_minor": 4
}
