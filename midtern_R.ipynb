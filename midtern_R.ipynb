{
 "cells": [
  {
   "cell_type": "markdown",
   "metadata": {},
   "source": [
    "## 資料集說明 :\n",
    "- 來源 : [kaggle](https://www.kaggle.com/carrie1/ecommerce-data?select=data.csv)\n",
    "- 資料集 : 在英國註冊的線上零售商店\n",
    "- 資料集大小 : 541909 筆資料，8個欄位\n",
    "- 時間 : 2010/01/12 ~ 2011/09/12 \n",
    "- 其他 : 該公司主要銷售各種場合的獨特禮品，公司的許多客戶都是批發商。"
   ]
  },
  {
   "cell_type": "markdown",
   "metadata": {},
   "source": [
    "## 欄位說明 :\n",
    "- InvoiceNo : 發票編號\n",
    "- StockCode : 股票編號\n",
    "- Description : 商品敘述\n",
    "- Quantity : 數量\n",
    "- InvoiceDate : 發票日期\n",
    "- UnitPrice : 單價\n",
    "- (主鍵) CustomerID : 顧客ID\n",
    "- Country : 國家"
   ]
  },
  {
   "cell_type": "markdown",
   "metadata": {},
   "source": [
    "## 預期做法 :\n",
    "1. 顧客 RFM 分析並分群預測回購金額"
   ]
  },
  {
   "cell_type": "code",
   "execution_count": 1,
   "metadata": {},
   "outputs": [
    {
     "name": "stdout",
     "output_type": "stream",
     "text": [
      "Dataframe dimensions:  541909 8"
     ]
    },
    {
     "data": {
      "text/html": [
       "<table>\n",
       "<thead><tr><th scope=col>InvoiceNo</th><th scope=col>StockCode</th><th scope=col>Description</th><th scope=col>Quantity</th><th scope=col>InvoiceDate</th><th scope=col>UnitPrice</th><th scope=col>CustomerID</th><th scope=col>Country</th></tr></thead>\n",
       "<tbody>\n",
       "\t<tr><td>536365                             </td><td>85123A                             </td><td>WHITE HANGING HEART T-LIGHT HOLDER </td><td>6                                  </td><td>12/1/2010 8:26                     </td><td>2.55                               </td><td>17850                              </td><td>United Kingdom                     </td></tr>\n",
       "\t<tr><td>536365                             </td><td>71053                              </td><td>WHITE METAL LANTERN                </td><td>6                                  </td><td>12/1/2010 8:26                     </td><td>3.39                               </td><td>17850                              </td><td>United Kingdom                     </td></tr>\n",
       "\t<tr><td>536365                             </td><td>84406B                             </td><td>CREAM CUPID HEARTS COAT HANGER     </td><td>8                                  </td><td>12/1/2010 8:26                     </td><td>2.75                               </td><td>17850                              </td><td>United Kingdom                     </td></tr>\n",
       "\t<tr><td>536365                             </td><td>84029G                             </td><td>KNITTED UNION FLAG HOT WATER BOTTLE</td><td>6                                  </td><td>12/1/2010 8:26                     </td><td>3.39                               </td><td>17850                              </td><td>United Kingdom                     </td></tr>\n",
       "\t<tr><td>536365                             </td><td>84029E                             </td><td>RED WOOLLY HOTTIE WHITE HEART.     </td><td>6                                  </td><td>12/1/2010 8:26                     </td><td>3.39                               </td><td>17850                              </td><td>United Kingdom                     </td></tr>\n",
       "\t<tr><td>536365                             </td><td>22752                              </td><td>SET 7 BABUSHKA NESTING BOXES       </td><td>2                                  </td><td>12/1/2010 8:26                     </td><td>7.65                               </td><td>17850                              </td><td>United Kingdom                     </td></tr>\n",
       "</tbody>\n",
       "</table>\n"
      ],
      "text/latex": [
       "\\begin{tabular}{r|llllllll}\n",
       " InvoiceNo & StockCode & Description & Quantity & InvoiceDate & UnitPrice & CustomerID & Country\\\\\n",
       "\\hline\n",
       "\t 536365                              & 85123A                              & WHITE HANGING HEART T-LIGHT HOLDER  & 6                                   & 12/1/2010 8:26                      & 2.55                                & 17850                               & United Kingdom                     \\\\\n",
       "\t 536365                              & 71053                               & WHITE METAL LANTERN                 & 6                                   & 12/1/2010 8:26                      & 3.39                                & 17850                               & United Kingdom                     \\\\\n",
       "\t 536365                              & 84406B                              & CREAM CUPID HEARTS COAT HANGER      & 8                                   & 12/1/2010 8:26                      & 2.75                                & 17850                               & United Kingdom                     \\\\\n",
       "\t 536365                              & 84029G                              & KNITTED UNION FLAG HOT WATER BOTTLE & 6                                   & 12/1/2010 8:26                      & 3.39                                & 17850                               & United Kingdom                     \\\\\n",
       "\t 536365                              & 84029E                              & RED WOOLLY HOTTIE WHITE HEART.      & 6                                   & 12/1/2010 8:26                      & 3.39                                & 17850                               & United Kingdom                     \\\\\n",
       "\t 536365                              & 22752                               & SET 7 BABUSHKA NESTING BOXES        & 2                                   & 12/1/2010 8:26                      & 7.65                                & 17850                               & United Kingdom                     \\\\\n",
       "\\end{tabular}\n"
      ],
      "text/markdown": [
       "\n",
       "| InvoiceNo | StockCode | Description | Quantity | InvoiceDate | UnitPrice | CustomerID | Country |\n",
       "|---|---|---|---|---|---|---|---|\n",
       "| 536365                              | 85123A                              | WHITE HANGING HEART T-LIGHT HOLDER  | 6                                   | 12/1/2010 8:26                      | 2.55                                | 17850                               | United Kingdom                      |\n",
       "| 536365                              | 71053                               | WHITE METAL LANTERN                 | 6                                   | 12/1/2010 8:26                      | 3.39                                | 17850                               | United Kingdom                      |\n",
       "| 536365                              | 84406B                              | CREAM CUPID HEARTS COAT HANGER      | 8                                   | 12/1/2010 8:26                      | 2.75                                | 17850                               | United Kingdom                      |\n",
       "| 536365                              | 84029G                              | KNITTED UNION FLAG HOT WATER BOTTLE | 6                                   | 12/1/2010 8:26                      | 3.39                                | 17850                               | United Kingdom                      |\n",
       "| 536365                              | 84029E                              | RED WOOLLY HOTTIE WHITE HEART.      | 6                                   | 12/1/2010 8:26                      | 3.39                                | 17850                               | United Kingdom                      |\n",
       "| 536365                              | 22752                               | SET 7 BABUSHKA NESTING BOXES        | 2                                   | 12/1/2010 8:26                      | 7.65                                | 17850                               | United Kingdom                      |\n",
       "\n"
      ],
      "text/plain": [
       "  InvoiceNo StockCode Description                         Quantity\n",
       "1 536365    85123A    WHITE HANGING HEART T-LIGHT HOLDER  6       \n",
       "2 536365    71053     WHITE METAL LANTERN                 6       \n",
       "3 536365    84406B    CREAM CUPID HEARTS COAT HANGER      8       \n",
       "4 536365    84029G    KNITTED UNION FLAG HOT WATER BOTTLE 6       \n",
       "5 536365    84029E    RED WOOLLY HOTTIE WHITE HEART.      6       \n",
       "6 536365    22752     SET 7 BABUSHKA NESTING BOXES        2       \n",
       "  InvoiceDate    UnitPrice CustomerID Country       \n",
       "1 12/1/2010 8:26 2.55      17850      United Kingdom\n",
       "2 12/1/2010 8:26 3.39      17850      United Kingdom\n",
       "3 12/1/2010 8:26 2.75      17850      United Kingdom\n",
       "4 12/1/2010 8:26 3.39      17850      United Kingdom\n",
       "5 12/1/2010 8:26 3.39      17850      United Kingdom\n",
       "6 12/1/2010 8:26 7.65      17850      United Kingdom"
      ]
     },
     "metadata": {},
     "output_type": "display_data"
    },
    {
     "name": "stdout",
     "output_type": "stream",
     "text": [
      "Observations: 541,909\n",
      "Variables: 8\n",
      "$ InvoiceNo   <chr> \"536365\", \"536365\", \"536365\", \"536365\", \"536365\", \"5363...\n",
      "$ StockCode   <chr> \"85123A\", \"71053\", \"84406B\", \"84029G\", \"84029E\", \"22752...\n",
      "$ Description <chr> \"WHITE HANGING HEART T-LIGHT HOLDER\", \"WHITE METAL LANT...\n",
      "$ Quantity    <int> 6, 6, 8, 6, 6, 2, 6, 6, 6, 32, 6, 6, 8, 6, 6, 3, 2, 3, ...\n",
      "$ InvoiceDate <chr> \"12/1/2010 8:26\", \"12/1/2010 8:26\", \"12/1/2010 8:26\", \"...\n",
      "$ UnitPrice   <dbl> 2.55, 3.39, 2.75, 3.39, 3.39, 7.65, 4.25, 1.85, 1.85, 1...\n",
      "$ CustomerID  <int> 17850, 17850, 17850, 17850, 17850, 17850, 17850, 17850,...\n",
      "$ Country     <chr> \"United Kingdom\", \"United Kingdom\", \"United Kingdom\", \"...\n"
     ]
    }
   ],
   "source": [
    "pacman::p_load(\"tidyverse\", \"data.table\")\n",
    "\n",
    "df = fread(\"./dataset/data.csv\", fill = T, stringsAsFactor = F)\n",
    "cat(\"Dataframe dimensions: \", dim(df))\n",
    "head(df)\n",
    "glimpse(df)"
   ]
  },
  {
   "cell_type": "code",
   "execution_count": 2,
   "metadata": {},
   "outputs": [
    {
     "name": "stdout",
     "output_type": "stream",
     "text": [
      "Observations: 541,909\n",
      "Variables: 8\n",
      "$ InvoiceNo   <chr> \"536365\", \"536365\", \"536365\", \"536365\", \"536365\", \"5363...\n",
      "$ StockCode   <chr> \"85123A\", \"71053\", \"84406B\", \"84029G\", \"84029E\", \"22752...\n",
      "$ Description <chr> \"WHITE HANGING HEART T-LIGHT HOLDER\", \"WHITE METAL LANT...\n",
      "$ Quantity    <int> 6, 6, 8, 6, 6, 2, 6, 6, 6, 32, 6, 6, 8, 6, 6, 3, 2, 3, ...\n",
      "$ InvoiceDate <date> 2010-12-01, 2010-12-01, 2010-12-01, 2010-12-01, 2010-1...\n",
      "$ UnitPrice   <dbl> 2.55, 3.39, 2.75, 3.39, 3.39, 7.65, 4.25, 1.85, 1.85, 1...\n",
      "$ CustomerID  <chr> \"17850\", \"17850\", \"17850\", \"17850\", \"17850\", \"17850\", \"...\n",
      "$ Country     <chr> \"United Kingdom\", \"United Kingdom\", \"United Kingdom\", \"...\n"
     ]
    }
   ],
   "source": [
    "df$CustomerID = as.character(df$CustomerID) # int to string\n",
    "df$InvoiceDate = as.Date(df$InvoiceDate, format = \"%m/%d/%Y\") # char to Date"
   ]
  },
  {
   "cell_type": "code",
   "execution_count": 7,
   "metadata": {},
   "outputs": [
    {
     "data": {
      "text/html": [
       "<dl class=dl-horizontal>\n",
       "\t<dt>InvoiceNo</dt>\n",
       "\t\t<dd>0</dd>\n",
       "\t<dt>StockCode</dt>\n",
       "\t\t<dd>0</dd>\n",
       "\t<dt>Description</dt>\n",
       "\t\t<dd>0</dd>\n",
       "\t<dt>Quantity</dt>\n",
       "\t\t<dd>0</dd>\n",
       "\t<dt>InvoiceDate</dt>\n",
       "\t\t<dd>0</dd>\n",
       "\t<dt>UnitPrice</dt>\n",
       "\t\t<dd>0</dd>\n",
       "\t<dt>CustomerID</dt>\n",
       "\t\t<dd>135080</dd>\n",
       "\t<dt>Country</dt>\n",
       "\t\t<dd>0</dd>\n",
       "</dl>\n"
      ],
      "text/latex": [
       "\\begin{description*}\n",
       "\\item[InvoiceNo] 0\n",
       "\\item[StockCode] 0\n",
       "\\item[Description] 0\n",
       "\\item[Quantity] 0\n",
       "\\item[InvoiceDate] 0\n",
       "\\item[UnitPrice] 0\n",
       "\\item[CustomerID] 135080\n",
       "\\item[Country] 0\n",
       "\\end{description*}\n"
      ],
      "text/markdown": [
       "InvoiceNo\n",
       ":   0StockCode\n",
       ":   0Description\n",
       ":   0Quantity\n",
       ":   0InvoiceDate\n",
       ":   0UnitPrice\n",
       ":   0CustomerID\n",
       ":   135080Country\n",
       ":   0\n",
       "\n"
      ],
      "text/plain": [
       "  InvoiceNo   StockCode Description    Quantity InvoiceDate   UnitPrice \n",
       "          0           0           0           0           0           0 \n",
       " CustomerID     Country \n",
       "     135080           0 "
      ]
     },
     "metadata": {},
     "output_type": "display_data"
    },
    {
     "data": {
      "text/html": [
       "<dl class=dl-horizontal>\n",
       "\t<dt>InvoiceNo</dt>\n",
       "\t\t<dd>0</dd>\n",
       "\t<dt>StockCode</dt>\n",
       "\t\t<dd>0</dd>\n",
       "\t<dt>Description</dt>\n",
       "\t\t<dd>0</dd>\n",
       "\t<dt>Quantity</dt>\n",
       "\t\t<dd>0</dd>\n",
       "\t<dt>InvoiceDate</dt>\n",
       "\t\t<dd>0</dd>\n",
       "\t<dt>UnitPrice</dt>\n",
       "\t\t<dd>0</dd>\n",
       "\t<dt>CustomerID</dt>\n",
       "\t\t<dd>0</dd>\n",
       "\t<dt>Country</dt>\n",
       "\t\t<dd>0</dd>\n",
       "</dl>\n"
      ],
      "text/latex": [
       "\\begin{description*}\n",
       "\\item[InvoiceNo] 0\n",
       "\\item[StockCode] 0\n",
       "\\item[Description] 0\n",
       "\\item[Quantity] 0\n",
       "\\item[InvoiceDate] 0\n",
       "\\item[UnitPrice] 0\n",
       "\\item[CustomerID] 0\n",
       "\\item[Country] 0\n",
       "\\end{description*}\n"
      ],
      "text/markdown": [
       "InvoiceNo\n",
       ":   0StockCode\n",
       ":   0Description\n",
       ":   0Quantity\n",
       ":   0InvoiceDate\n",
       ":   0UnitPrice\n",
       ":   0CustomerID\n",
       ":   0Country\n",
       ":   0\n",
       "\n"
      ],
      "text/plain": [
       "  InvoiceNo   StockCode Description    Quantity InvoiceDate   UnitPrice \n",
       "          0           0           0           0           0           0 \n",
       " CustomerID     Country \n",
       "          0           0 "
      ]
     },
     "metadata": {},
     "output_type": "display_data"
    }
   ],
   "source": [
    "sapply(df, function(x) sum(ifelse(is.na(x), 1, 0)))\n",
    "df = na.omit(df) # remove NA\n",
    "sapply(df, function(x) sum(ifelse(is.na(x), 1, 0)))"
   ]
  },
  {
   "cell_type": "code",
   "execution_count": 16,
   "metadata": {},
   "outputs": [
    {
     "data": {
      "text/plain": [
       "  InvoiceNo          StockCode         Description           Quantity        \n",
       " Length:406829      Length:406829      Length:406829      Min.   :-80995.00  \n",
       " Class :character   Class :character   Class :character   1st Qu.:     2.00  \n",
       " Mode  :character   Mode  :character   Mode  :character   Median :     5.00  \n",
       "                                                          Mean   :    12.06  \n",
       "                                                          3rd Qu.:    12.00  \n",
       "                                                          Max.   : 80995.00  \n",
       "  InvoiceDate           UnitPrice         CustomerID          Country         \n",
       " Min.   :2010-12-01   Min.   :    0.00   Length:406829      Length:406829     \n",
       " 1st Qu.:2011-04-06   1st Qu.:    1.25   Class :character   Class :character  \n",
       " Median :2011-07-31   Median :    1.95   Mode  :character   Mode  :character  \n",
       " Mean   :2011-07-10   Mean   :    3.46                                        \n",
       " 3rd Qu.:2011-10-20   3rd Qu.:    3.75                                        \n",
       " Max.   :2011-12-09   Max.   :38970.00                                        "
      ]
     },
     "metadata": {},
     "output_type": "display_data"
    }
   ],
   "source": [
    "summary(df) # Quantity 有負值，應該是退貨顧客"
   ]
  },
  {
   "cell_type": "code",
   "execution_count": 30,
   "metadata": {},
   "outputs": [
    {
     "data": {
      "text/html": [
       "<table>\n",
       "<thead><tr><th scope=col>Country</th><th scope=col>n</th></tr></thead>\n",
       "<tbody>\n",
       "\t<tr><td>United Kingdom</td><td>361878        </td></tr>\n",
       "\t<tr><td>Germany       </td><td>  9495        </td></tr>\n",
       "\t<tr><td>France        </td><td>  8491        </td></tr>\n",
       "\t<tr><td>EIRE          </td><td>  7485        </td></tr>\n",
       "\t<tr><td>Spain         </td><td>  2533        </td></tr>\n",
       "\t<tr><td>Netherlands   </td><td>  2371        </td></tr>\n",
       "</tbody>\n",
       "</table>\n"
      ],
      "text/latex": [
       "\\begin{tabular}{r|ll}\n",
       " Country & n\\\\\n",
       "\\hline\n",
       "\t United Kingdom & 361878        \\\\\n",
       "\t Germany        &   9495        \\\\\n",
       "\t France         &   8491        \\\\\n",
       "\t EIRE           &   7485        \\\\\n",
       "\t Spain          &   2533        \\\\\n",
       "\t Netherlands    &   2371        \\\\\n",
       "\\end{tabular}\n"
      ],
      "text/markdown": [
       "\n",
       "| Country | n |\n",
       "|---|---|\n",
       "| United Kingdom | 361878         |\n",
       "| Germany        |   9495         |\n",
       "| France         |   8491         |\n",
       "| EIRE           |   7485         |\n",
       "| Spain          |   2533         |\n",
       "| Netherlands    |   2371         |\n",
       "\n"
      ],
      "text/plain": [
       "  Country        n     \n",
       "1 United Kingdom 361878\n",
       "2 Germany          9495\n",
       "3 France           8491\n",
       "4 EIRE             7485\n",
       "5 Spain            2533\n",
       "6 Netherlands      2371"
      ]
     },
     "metadata": {},
     "output_type": "display_data"
    },
    {
     "data": {
      "text/html": [
       "<table>\n",
       "<thead><tr><th scope=col>CustomerID</th><th scope=col>n</th></tr></thead>\n",
       "<tbody>\n",
       "\t<tr><td>17841</td><td>7983 </td></tr>\n",
       "\t<tr><td>14911</td><td>5903 </td></tr>\n",
       "\t<tr><td>14096</td><td>5128 </td></tr>\n",
       "\t<tr><td>12748</td><td>4642 </td></tr>\n",
       "\t<tr><td>14606</td><td>2782 </td></tr>\n",
       "\t<tr><td>15311</td><td>2491 </td></tr>\n",
       "</tbody>\n",
       "</table>\n"
      ],
      "text/latex": [
       "\\begin{tabular}{r|ll}\n",
       " CustomerID & n\\\\\n",
       "\\hline\n",
       "\t 17841 & 7983 \\\\\n",
       "\t 14911 & 5903 \\\\\n",
       "\t 14096 & 5128 \\\\\n",
       "\t 12748 & 4642 \\\\\n",
       "\t 14606 & 2782 \\\\\n",
       "\t 15311 & 2491 \\\\\n",
       "\\end{tabular}\n"
      ],
      "text/markdown": [
       "\n",
       "| CustomerID | n |\n",
       "|---|---|\n",
       "| 17841 | 7983  |\n",
       "| 14911 | 5903  |\n",
       "| 14096 | 5128  |\n",
       "| 12748 | 4642  |\n",
       "| 14606 | 2782  |\n",
       "| 15311 | 2491  |\n",
       "\n"
      ],
      "text/plain": [
       "  CustomerID n   \n",
       "1 17841      7983\n",
       "2 14911      5903\n",
       "3 14096      5128\n",
       "4 12748      4642\n",
       "5 14606      2782\n",
       "6 15311      2491"
      ]
     },
     "metadata": {},
     "output_type": "display_data"
    }
   ],
   "source": [
    "df %>% count(Country, sort = T) %>% head() # 英國顧客佔最多\n",
    "df %>% count(CustomerID, sort = T) %>% head() # 編號 17841 顧客買最多"
   ]
  },
  {
   "cell_type": "code",
   "execution_count": 60,
   "metadata": {},
   "outputs": [],
   "source": [
    "df$tid = group_indices(df, InvoiceDate, CustomerID) # 將顧客同天購買的商品歸為一張訂單"
   ]
  }
 ],
 "metadata": {
  "kernelspec": {
   "display_name": "R",
   "language": "R",
   "name": "ir"
  },
  "language_info": {
   "codemirror_mode": "r",
   "file_extension": ".r",
   "mimetype": "text/x-r-source",
   "name": "R",
   "pygments_lexer": "r",
   "version": "3.6.1"
  }
 },
 "nbformat": 4,
 "nbformat_minor": 4
}
